{
 "cells": [
  {
   "cell_type": "code",
   "execution_count": 1,
   "metadata": {
    "collapsed": true
   },
   "outputs": [],
   "source": [
    "import copy\n",
    "from typing import Dict, List, Any\n",
    "import pandas as pd\n",
    "import json\n",
    "from collections import defaultdict\n",
    "import numpy as np\n",
    "import plotly.graph_objects as go\n",
    "import matplotlib.pyplot as plt\n",
    "from datamodel import TradingState, Listing, OrderDepth, Trade, Observation, Order, UserId\n",
    "%reload_ext autoreload\n",
    "%autoreload 2"
   ]
  },
  {
   "cell_type": "code",
   "execution_count": 2,
   "outputs": [],
   "source": [
    "import copy\n",
    "from typing import Dict, List, Any\n",
    "import pandas as pd\n",
    "import json\n",
    "from collections import defaultdict\n",
    "import numpy as np\n",
    "import plotly.graph_objects as go\n",
    "import matplotlib.pyplot as plt\n",
    "from datamodel import TradingState, Listing, OrderDepth, Trade, Observation, Order, UserId\n",
    "from round_2_ink import Trader\n",
    "from backtester import Backtester\n",
    "\n",
    "\n",
    "def calculate_SQUID_INK_fair(order_depth):\n",
    "    # assumes order_depth has orders in it\n",
    "    best_ask = min(order_depth.sell_orders.keys())\n",
    "    best_bid = max(order_depth.buy_orders.keys())\n",
    "    filtered_ask = [price for price in order_depth.sell_orders.keys() if abs(order_depth.sell_orders[price]) >= 15]\n",
    "    filtered_bid = [price for price in order_depth.buy_orders.keys() if abs(order_depth.buy_orders[price]) >= 15]\n",
    "    mm_ask = min(filtered_ask) if len(filtered_ask) > 0 else best_ask\n",
    "    mm_bid = max(filtered_bid) if len(filtered_bid) > 0 else best_bid\n",
    "\n",
    "    mmmid_price = (mm_ask + mm_bid) / 2\n",
    "    return mmmid_price\n",
    "\n",
    "\n",
    "def calculate_RAINFOREST_RESIN_fair(order_depth):\n",
    "    return 10000\n",
    "\n",
    "\n",
    "listings = {\n",
    "    'RAINFOREST_RESIN': Listing(symbol='RAINFOREST_RESIN', product='RAINFOREST_RESIN', denomination='SEASHELLS'),\n",
    "    'SQUID_INK': Listing(symbol='SQUID_INK', product='SQUID_INK', denomination='SEASHELLS'),\n",
    "    'KELP': Listing(symbol='KELP', product='KELP', denomination='SEASHELLS'),\n",
    "    'CROISSANTS': Listing(symbol='CROISSANTS', product='CROISSANTS', denomination='SEASHELLS'),\n",
    "    'JAMS': Listing(symbol='JAMS', product='JAMS', denomination='SEASHELLS'),\n",
    "    'DJEMBES': Listing(symbol='DJEMBES', product='DJEMBES', denomination='SEASHELLS'),\n",
    "    'PICNIC_BASKET1': Listing(symbol='PICNIC_BASKET1', product='PICNIC_BASKET1', denomination='SEASHELLS'),\n",
    "    'PICNIC_BASKET2': Listing(symbol='PICNIC_BASKET2', product='PICNIC_BASKET2', denomination='SEASHELLS'),\n",
    "}\n",
    "\n",
    "\n",
    "import itertools\n",
    "\n",
    "def generate_param_combinations(param_grid):\n",
    "    param_names = param_grid.keys()\n",
    "    param_values = param_grid.values()\n",
    "    combinations = list(itertools.product(*param_values))\n",
    "    return [dict(zip(param_names, combination)) for combination in combinations]\n",
    "import os\n",
    "from tqdm import tqdm\n",
    "\n",
    "def run_backtests(trader, listings, position_limit, fair_calcs, market_data, trade_history, backtest_dir, param_grid, symbol):\n",
    "    if not os.path.exists(backtest_dir):\n",
    "        os.makedirs(backtest_dir)\n",
    "\n",
    "    param_combinations = generate_param_combinations(param_grid[symbol])\n",
    "\n",
    "    results = []\n",
    "    backtest_dict = {}\n",
    "    for params in tqdm(param_combinations, desc=f\"Running backtests for {symbol}\", unit=\"backtest\"):\n",
    "        trader.params = {symbol: params}\n",
    "        backtester = Backtester(trader, listings, position_limit, fair_calcs, market_data, trade_history)\n",
    "        backtester.run()\n",
    "\n",
    "        param_str = \"-\".join([f\"{key}={value}\" for key, value in params.items()])\n",
    "        log_filename = f\"{backtest_dir}/{symbol}_{param_str}.log\"\n",
    "        backtester._log_trades(log_filename)\n",
    "\n",
    "        results.append((params, backtester.pnl[symbol]))\n",
    "        backtest_dict[str(params)] = copy.deepcopy(backtester)\n",
    "\n",
    "    return results, backtest_dict\n",
    "\n",
    "class Product:\n",
    "    RAINFOREST_RESIN = \"RAINFOREST_RESIN\"\n",
    "    SQUID_INK = \"SQUID_INK\"\n",
    "    KELP = 'KELP'\n",
    "    PICNIC_BASKET1 = \"PICNIC_BASKET1\"\n",
    "    PICNIC_BASKET2 = \"PICNIC_BASKET2\"\n",
    "    CROISSANTS = \"CROISSANTS\"\n",
    "    JAMS = \"JAMS\"\n",
    "    DJEMBES = \"DJEMBES\"\n",
    "    SYNTHETIC1 = \"SYNTHETIC1\"\n",
    "    SYNTHETIC2 = \"SYNTHETIC2\"\n",
    "    SYNTHETIC12 = \"SYNTHETIC12\"\n",
    "    SPREAD1 = \"SPREAD1\"\n",
    "    SPREAD2 = \"SPREAD2\"\n",
    "    SPREAD12 = \"SPREAD12\"\n",
    "    BASKET1BY2 = \"BASKET1BY2\"\n",
    "\n",
    "\n",
    "params_grid = {\n",
    "    # Product.RAINFOREST_RESIN: {\n",
    "    #     \"fair_value\": 10000,\n",
    "    #     \"take_width\": 1,\n",
    "    #     \"clear_threshold\": 30,\n",
    "    #     \"clear_width\": 0,\n",
    "    #     # for making\n",
    "    #     \"disregard_edge\": 0,  # disregards orders for joining or pennying within this value from fair\n",
    "    #     \"join_edge\": 1,  # joins orders within this edge\n",
    "    #     \"default_edge\": 2,\n",
    "    #     \"soft_position_limit\": 50,\n",
    "    # },\n",
    "\n",
    "    Product.SQUID_INK: {\n",
    "        \"take_width\": [2],\n",
    "        \"clear_width\": [0],\n",
    "        \"clear_threshold\": [0],\n",
    "        \"prevent_adverse\": [False],\n",
    "        \"adverse_volume\": [15],\n",
    "        \"reversion_beta\": [-0.2],\n",
    "        \"disregard_edge\": [1],\n",
    "        \"join_edge\": [2],\n",
    "        \"default_edge\": [4],\n",
    "        \"soft_position_limit\": [0],\n",
    "        \"zscore_threshold\": [4.0,5.0],\n",
    "        \"zscore_threshold_for_clean\": [1.0],\n",
    "        \"price_std_window\": [50],\n",
    "        \"final_timestamp\": [1000000]\n",
    "    },}\n",
    "\n",
    "import io\n",
    "def _process_data_(file):\n",
    "    with open(file, 'r') as file:\n",
    "        log_content = file.read()\n",
    "    sections = log_content.split('Sandbox logs:')[1].split('Activities log:')\n",
    "    sandbox_log = sections[0].strip()\n",
    "    activities_log = sections[1].split('Trade History:')[0]\n",
    "    # sandbox_log_list = [json.loads(line) for line in sandbox_log.split('\\n')]\n",
    "    trade_history = json.loads(sections[1].split('Trade History:')[1])\n",
    "    # sandbox_log_df = pd.DataFrame(sandbox_log_list)\n",
    "    market_data_df = pd.read_csv(io.StringIO(activities_log), sep=\";\", header=0)\n",
    "    trade_history_df = pd.json_normalize(trade_history)\n",
    "    # print(sections[1])\n",
    "    return market_data_df, trade_history_df\n",
    "\n",
    "\n",
    "\n",
    "position_limit = {\n",
    "        'RAINFOREST_RESIN': 50,\n",
    "        'SQUID_INK': 50,\n",
    "        'KELP': 50,\n",
    "        'CROISSANTS': 250,\n",
    "        'JAMS': 350,\n",
    "        'DJEMBES': 60,\n",
    "        'PICNIC_BASKET1': 60,\n",
    "        'PICNIC_BASKET2': 100\n",
    "    }\n",
    "\n",
    "fair_calculations = {\n",
    "        \"RAINFOREST_RESIN\": calculate_RAINFOREST_RESIN_fair,\n",
    "        \"SQUID_INK\": calculate_SQUID_INK_fair\n",
    "    }\n",
    "# run\n",
    "all_backtesters = []\n",
    "backtest_dir = \"backtestruns\""
   ],
   "metadata": {
    "collapsed": false
   }
  },
  {
   "cell_type": "code",
   "execution_count": 3,
   "outputs": [
    {
     "name": "stderr",
     "output_type": "stream",
     "text": [
      "Running backtests for SQUID_INK: 100%|██████████| 2/2 [00:44<00:00, 22.23s/backtest]\n",
      "Running backtests for SQUID_INK: 100%|██████████| 2/2 [00:43<00:00, 21.97s/backtest]\n",
      "Running backtests for SQUID_INK: 100%|██████████| 2/2 [00:43<00:00, 21.94s/backtest]\n",
      "Running backtests for SQUID_INK: 100%|██████████| 2/2 [01:08<00:00, 34.33s/backtest]\n",
      "Running backtests for SQUID_INK:   0%|          | 0/2 [00:00<?, ?backtest/s]"
     ]
    },
    {
     "name": "stdout",
     "output_type": "stream",
     "text": [
      "Squidink position limit reached at 220300. Current position: 50\n",
      "Squidink position limit reached at 220400. Current position: 50\n",
      "Squidink position limit reached at 220500. Current position: 50\n",
      "Squidink position limit reached at 220600. Current position: 50\n",
      "Squidink position limit reached at 220700. Current position: 50\n",
      "Squidink position limit reached at 220800. Current position: 50\n",
      "Squidink position limit reached at 220900. Current position: 50\n",
      "Squidink position limit reached at 221000. Current position: 50\n",
      "Squidink position limit reached at 221100. Current position: 50\n",
      "Squidink position limit reached at 221200. Current position: 50\n",
      "Squidink position limit reached at 221300. Current position: 50\n",
      "Squidink position limit reached at 221400. Current position: 50\n",
      "Squidink position limit reached at 221500. Current position: 50\n",
      "Squidink position limit reached at 221600. Current position: 50\n",
      "Squidink position limit reached at 221700. Current position: 50\n"
     ]
    },
    {
     "name": "stderr",
     "output_type": "stream",
     "text": [
      "Running backtests for SQUID_INK:  50%|█████     | 1/2 [00:34<00:34, 34.07s/backtest]"
     ]
    },
    {
     "name": "stdout",
     "output_type": "stream",
     "text": [
      "Squidink position limit reached at 220300. Current position: 50\n",
      "Squidink position limit reached at 220400. Current position: 50\n",
      "Squidink position limit reached at 220500. Current position: 50\n",
      "Squidink position limit reached at 220600. Current position: 50\n",
      "Squidink position limit reached at 220700. Current position: 50\n",
      "Squidink position limit reached at 220800. Current position: 50\n",
      "Squidink position limit reached at 220900. Current position: 50\n",
      "Squidink position limit reached at 221000. Current position: 50\n",
      "Squidink position limit reached at 221100. Current position: 50\n",
      "Squidink position limit reached at 221200. Current position: 50\n",
      "Squidink position limit reached at 221300. Current position: 50\n",
      "Squidink position limit reached at 221400. Current position: 50\n",
      "Squidink position limit reached at 221500. Current position: 50\n",
      "Squidink position limit reached at 221600. Current position: 50\n",
      "Squidink position limit reached at 221700. Current position: 50\n"
     ]
    },
    {
     "name": "stderr",
     "output_type": "stream",
     "text": [
      "Running backtests for SQUID_INK: 100%|██████████| 2/2 [01:08<00:00, 34.19s/backtest]\n",
      "Running backtests for SQUID_INK: 100%|██████████| 2/2 [01:10<00:00, 35.28s/backtest]\n",
      "Running backtests for SQUID_INK: 100%|██████████| 2/2 [00:44<00:00, 22.28s/backtest]\n"
     ]
    }
   ],
   "source": [
    "\n",
    "for i in range(0,7):\n",
    "    if i in [0,1,2]:\n",
    "        day = i - 1\n",
    "    #day = -1\n",
    "        market_data = pd.read_csv(f\"./round-2-island-data-bottle/prices_round_2_day_{day}.csv\", sep=\";\", header=0)\n",
    "        trade_history = pd.read_csv(f\"./round-2-island-data-bottle/trades_round_2_day_{day}.csv\", sep=\";\", header=0)\n",
    "\n",
    "        # market_data, trade_history = _process_data_('./webruns/aggress_time.log')\n",
    "        # market_data, trade_history = _process_data_('./webruns/null_strategy.log')\n",
    "        trader = Trader()\n",
    "        #backtester = Backtester(trader, listings, position_limit, fair_calculations, market_data, trade_history,\"trade_history_sim.log\", False, None)\n",
    "        # results, runned_backtester = run_backtests(trader, listings, position_limit, fair_calculations, market_data, trade_history, backtest_dir, params_grid, \"SQUID_INK\")\n",
    "        #print(runned_backtester.pnl['SQUID_INK'])\n",
    "        # all_backtesters.append(copy.deepcopy(runned_backtester))\n",
    "    elif i in [3,4,5]:\n",
    "        listings3 = { 'RAINFOREST_RESIN': Listing(symbol='RAINFOREST_RESIN', product='RAINFOREST_RESIN', denomination='SEASHELLS'),\n",
    "        'SQUID_INK': Listing(symbol='SQUID_INK', product='SQUID_INK', denomination='SEASHELLS'),\n",
    "         'KELP': Listing(symbol='KELP', product='KELP', denomination='SEASHELLS'),\n",
    "         'CROISSANTS': Listing(symbol='CROISSANTS', product='CROISSANTS', denomination='SEASHELLS'),\n",
    "        'JAMS': Listing(symbol='JAMS', product='JAMS', denomination='SEASHELLS'),\n",
    "        'DJEMBES': Listing(symbol='DJEMBES', product='DJEMBES', denomination='SEASHELLS'),\n",
    "         'PICNIC_BASKET1': Listing(symbol='PICNIC_BASKET1', product='PICNIC_BASKET1', denomination='SEASHELLS'),\n",
    "        'PICNIC_BASKET2': Listing(symbol='PICNIC_BASKET2', product='PICNIC_BASKET2', denomination='SEASHELLS'),\n",
    "\n",
    "        # 'VOLCANIC_ROCK': Listing(symbol='VOLCANIC_ROCK', product='VOLCANIC_ROCK', denomination='SEASHELLS'),\n",
    "        # 'VOLCANIC_ROCK_VOUCHER_9500': Listing(symbol='VOLCANIC_ROCK_VOUCHER_9500', product='VOLCANIC_ROCK_VOUCHER_9500', denomination='SEASHELLS'),\n",
    "        # 'VOLCANIC_ROCK_VOUCHER_9750': Listing(symbol='VOLCANIC_ROCK_VOUCHER_9750', product='VOLCANIC_ROCK_VOUCHER_9750', denomination='SEASHELLS'),\n",
    "        #  'VOLCANIC_ROCK_VOUCHER_10000': Listing(symbol='VOLCANIC_ROCK_VOUCHER_10000', product='VOLCANIC_ROCK_VOUCHER_10000', denomination='SEASHELLS'),\n",
    "        #  'VOLCANIC_ROCK_VOUCHER_10250': Listing(symbol='VOLCANIC_ROCK_VOUCHER_10250', product='VOLCANIC_ROCK_VOUCHER_10250', denomination='SEASHELLS'),\n",
    "        #  'VOLCANIC_ROCK_VOUCHER_10500': Listing(symbol='VOLCANIC_ROCK_VOUCHER_10500', product='VOLCANIC_ROCK_VOUCHER_10500', denomination='SEASHELLS'),\n",
    "         }\n",
    "\n",
    "        position_limit3 = {\n",
    "        'RAINFOREST_RESIN': 50,\n",
    "        'SQUID_INK': 50,\n",
    "        'KELP': 50,\n",
    "        'CROISSANTS': 250,\n",
    "        'JAMS': 350,\n",
    "        'DJEMBES': 60,\n",
    "        'PICNIC_BASKET1': 60,\n",
    "        'PICNIC_BASKET2': 100,\n",
    "        # 'VOLCANIC_ROCK_VOUCHER_9500': 200,\n",
    "        # 'VOLCANIC_ROCK_VOUCHER_9750': 200,\n",
    "        #  'VOLCANIC_ROCK_VOUCHER_10000': 200,\n",
    "        }\n",
    "\n",
    "        day = i - 3\n",
    "        #day = -1\n",
    "        market_data = pd.read_csv(f\"./round-3-island-data-bottle/prices_round_3_day_{day}.csv\", sep=\";\", header=0)\n",
    "        trade_history = pd.read_csv(f\"./round-3-island-data-bottle/trades_round_3_day_{day}.csv\", sep=\";\", header=0)\n",
    "    elif i in [6]:\n",
    "        market_data, trade_history = _process_data_('./logs/round2_final.log')\n",
    "    trader = Trader()\n",
    "    results, runned_backtester = run_backtests(trader, listings, position_limit, fair_calculations, market_data, trade_history, backtest_dir, params_grid, \"SQUID_INK\")\n",
    "        #print(params_grid)\n",
    "        #print(runned_backtester.pnl['SQUID_INK'])\n",
    "    all_backtesters.append(runned_backtester)\n"
   ],
   "metadata": {
    "collapsed": false
   }
  },
  {
   "cell_type": "code",
   "execution_count": 4,
   "outputs": [
    {
     "data": {
      "text/plain": "7"
     },
     "execution_count": 4,
     "metadata": {},
     "output_type": "execute_result"
    }
   ],
   "source": [
    "len(all_backtesters)"
   ],
   "metadata": {
    "collapsed": false
   }
  },
  {
   "cell_type": "code",
   "execution_count": 5,
   "outputs": [
    {
     "data": {
      "text/plain": "2"
     },
     "execution_count": 5,
     "metadata": {},
     "output_type": "execute_result"
    }
   ],
   "source": [
    "len(all_backtesters[0].keys())"
   ],
   "metadata": {
    "collapsed": false
   }
  },
  {
   "cell_type": "code",
   "execution_count": 6,
   "outputs": [
    {
     "name": "stdout",
     "output_type": "stream",
     "text": [
      "{'take_width': 2, 'clear_width': 0, 'clear_threshold': 0, 'prevent_adverse': False, 'adverse_volume': 15, 'reversion_beta': -0.2, 'disregard_edge': 1, 'join_edge': 2, 'default_edge': 4, 'soft_position_limit': 0, 'zscore_threshold': 4.0, 'zscore_threshold_for_clean': 1.0, 'price_std_window': 50, 'final_timestamp': 1000000}\n",
      "{'take_width': 2, 'clear_width': 0, 'clear_threshold': 0, 'prevent_adverse': False, 'adverse_volume': 15, 'reversion_beta': -0.2, 'disregard_edge': 1, 'join_edge': 2, 'default_edge': 4, 'soft_position_limit': 0, 'zscore_threshold': 5.0, 'zscore_threshold_for_clean': 1.0, 'price_std_window': 50, 'final_timestamp': 1000000}\n"
     ]
    }
   ],
   "source": [
    "reorgnized_dict = {}\n",
    "for param_str in all_backtesters[0].keys():\n",
    "    print(param_str)\n",
    "    param_backtester_list = [backtester_dict[param_str] for backtester_dict in all_backtesters]\n",
    "    reorgnized_dict[param_str] = param_backtester_list"
   ],
   "metadata": {
    "collapsed": false
   }
  },
  {
   "cell_type": "code",
   "execution_count": 8,
   "outputs": [
    {
     "name": "stdout",
     "output_type": "stream",
     "text": [
      "{'take_width': 2, 'clear_width': 0, 'clear_threshold': 0, 'prevent_adverse': False, 'adverse_volume': 15, 'reversion_beta': -0.2, 'disregard_edge': 1, 'join_edge': 2, 'default_edge': 4, 'soft_position_limit': 0, 'zscore_threshold': 4.0, 'zscore_threshold_for_clean': 1.0, 'price_std_window': 50, 'final_timestamp': 1000000}\n",
      "[537.0, -30.0, 1784.0, -30.0, 1683.0, -312.0, -312.0]\n",
      "{'take_width': 2, 'clear_width': 0, 'clear_threshold': 0, 'prevent_adverse': False, 'adverse_volume': 15, 'reversion_beta': -0.2, 'disregard_edge': 1, 'join_edge': 2, 'default_edge': 4, 'soft_position_limit': 0, 'zscore_threshold': 5.0, 'zscore_threshold_for_clean': 1.0, 'price_std_window': 50, 'final_timestamp': 1000000}\n",
      "[1720.0, 0.0, 2010.0, 0.0, 1679.0, 10.0, 10.0]\n"
     ]
    }
   ],
   "source": [
    "for param_str in reorgnized_dict.keys():\n",
    "    print(param_str)\n",
    "    pnl_list = [backtester.pnl['SQUID_INK'] for backtester in reorgnized_dict[param_str]]\n",
    "    print(pnl_list)"
   ],
   "metadata": {
    "collapsed": false
   }
  },
  {
   "cell_type": "code",
   "execution_count": null,
   "outputs": [],
   "source": [
    "reorgnized_dict['']"
   ],
   "metadata": {
    "collapsed": false
   }
  },
  {
   "cell_type": "code",
   "execution_count": null,
   "outputs": [],
   "source": [
    "def calculate_SQUID_INK_fair(order_depth):\n",
    "        # assumes order_depth has orders in it\n",
    "        best_ask = min(order_depth.sell_orders.keys())\n",
    "        best_bid = max(order_depth.buy_orders.keys())\n",
    "        filtered_ask = [price for price in order_depth.sell_orders.keys() if abs(order_depth.sell_orders[price]) >= 15]\n",
    "        filtered_bid = [price for price in order_depth.buy_orders.keys() if abs(order_depth.buy_orders[price]) >= 15]\n",
    "        mm_ask = min(filtered_ask) if len(filtered_ask) > 0 else best_ask\n",
    "        mm_bid = max(filtered_bid) if len(filtered_bid) > 0 else best_bid\n",
    "\n",
    "        mmmid_price = (mm_ask + mm_bid) / 2\n",
    "        return mmmid_price\n",
    "\n",
    "\n",
    "\n",
    "\n",
    "def calculate_RAINFOREST_RESIN_fair(order_depth):\n",
    "        return 10000\n",
    "listings = {\n",
    "        'RAINFOREST_RESIN': Listing(symbol='RAINFOREST_RESIN', product='RAINFOREST_RESIN', denomination='SEASHELLS'),\n",
    "        'SQUID_INK': Listing(symbol='SQUID_INK', product='SQUID_INK', denomination='SEASHELLS'),\n",
    "        'KELP': Listing(symbol='KELP', product='KELP', denomination='SEASHELLS'),\n",
    "        'CROISSANTS': Listing(symbol='CROISSANTS', product='CROISSANTS', denomination='SEASHELLS'),\n",
    "        'JAMS': Listing(symbol='JAMS', product='JAMS', denomination='SEASHELLS'),\n",
    "        'DJEMBES': Listing(symbol='DJEMBES', product='DJEMBES', denomination='SEASHELLS'),\n",
    "        'PICNIC_BASKET1': Listing(symbol='PICNIC_BASKET1', product='PICNIC_BASKET1', denomination='SEASHELLS'),\n",
    "        'PICNIC_BASKET2': Listing(symbol='PICNIC_BASKET2', product='PICNIC_BASKET2', denomination='SEASHELLS'),\n",
    "    }\n",
    "\n"
   ],
   "metadata": {
    "collapsed": false
   }
  },
  {
   "cell_type": "code",
   "execution_count": null,
   "outputs": [],
   "source": [],
   "metadata": {
    "collapsed": false
   }
  },
  {
   "cell_type": "code",
   "execution_count": null,
   "outputs": [],
   "source": [
    "import itertools\n",
    "\n",
    "def generate_param_combinations(param_grid):\n",
    "    param_names = param_grid.keys()\n",
    "    param_values = param_grid.values()\n",
    "    combinations = list(itertools.product(*param_values))\n",
    "    return [dict(zip(param_names, combination)) for combination in combinations]\n",
    "import os\n",
    "from tqdm import tqdm\n",
    "\n",
    "def run_backtests(trader, listings, position_limit, fair_calcs, market_data, trade_history, backtest_dir, param_grid, symbol):\n",
    "    if not os.path.exists(backtest_dir):\n",
    "        os.makedirs(backtest_dir)\n",
    "\n",
    "    param_combinations = generate_param_combinations(param_grid[symbol])\n",
    "\n",
    "    results = []\n",
    "    for params in tqdm(param_combinations, desc=f\"Running backtests for {symbol}\", unit=\"backtest\"):\n",
    "        trader.params = {symbol: params}\n",
    "        backtester = Backtester(trader, listings, position_limit, fair_calcs, market_data, trade_history)\n",
    "        backtester.run()\n",
    "\n",
    "        param_str = \"-\".join([f\"{key}={value}\" for key, value in params.items()])\n",
    "        log_filename = f\"{backtest_dir}/{symbol}_{param_str}.log\"\n",
    "        backtester._log_trades(log_filename)\n",
    "\n",
    "        results.append((params, backtester.pnl[symbol]))\n",
    "\n",
    "    return results, backtester"
   ],
   "metadata": {
    "collapsed": false
   }
  },
  {
   "cell_type": "code",
   "execution_count": null,
   "outputs": [],
   "source": [
    "class Product:\n",
    "    RAINFOREST_RESIN = \"RAINFOREST_RESIN\"\n",
    "    SQUID_INK = \"SQUID_INK\"\n",
    "    KELP = 'KELP'\n",
    "    PICNIC_BASKET1 = \"PICNIC_BASKET1\"\n",
    "    PICNIC_BASKET2 = \"PICNIC_BASKET2\"\n",
    "    CROISSANTS = \"CROISSANTS\"\n",
    "    JAMS = \"JAMS\"\n",
    "    DJEMBES = \"DJEMBES\"\n",
    "    SYNTHETIC1 = \"SYNTHETIC1\"\n",
    "    SYNTHETIC2 = \"SYNTHETIC2\"\n",
    "    SYNTHETIC12 = \"SYNTHETIC12\"\n",
    "    SPREAD1 = \"SPREAD1\"\n",
    "    SPREAD2 = \"SPREAD2\"\n",
    "    SPREAD12 = \"SPREAD12\"\n",
    "    BASKET1BY2 = \"BASKET1BY2\"\n",
    "\n",
    "\n",
    "params_grid = {\n",
    "    # Product.RAINFOREST_RESIN: {\n",
    "    #     \"fair_value\": 10000,\n",
    "    #     \"take_width\": 1,\n",
    "    #     \"clear_threshold\": 30,\n",
    "    #     \"clear_width\": 0,\n",
    "    #     # for making\n",
    "    #     \"disregard_edge\": 0,  # disregards orders for joining or pennying within this value from fair\n",
    "    #     \"join_edge\": 1,  # joins orders within this edge\n",
    "    #     \"default_edge\": 2,\n",
    "    #     \"soft_position_limit\": 50,\n",
    "    # },\n",
    "\n",
    "    Product.SQUID_INK: {\n",
    "        \"take_width\": 2,\n",
    "        \"clear_width\": 0,\n",
    "        \"clear_threshold\": 0,\n",
    "        \"prevent_adverse\": False,\n",
    "        \"adverse_volume\": 15,\n",
    "        \"reversion_beta\": -0.2,\n",
    "        \"disregard_edge\": 1,\n",
    "        \"join_edge\": 2,\n",
    "        \"default_edge\": 4,\n",
    "        \"soft_position_limit\": 0,\n",
    "        \"zscore_threshold\": [3.0,4.0,5.0,6.0],\n",
    "        \"zscore_threshold_for_clean\": [0.5,1.0,2.0],\n",
    "        \"price_std_window\": [50,100],\n",
    "        \"final_timestamp\": 950000\n",
    "    },}"
   ],
   "metadata": {
    "collapsed": false
   }
  },
  {
   "cell_type": "code",
   "execution_count": null,
   "outputs": [],
   "source": [
    "import io\n",
    "def _process_data_(file):\n",
    "    with open(file, 'r') as file:\n",
    "        log_content = file.read()\n",
    "    sections = log_content.split('Sandbox logs:')[1].split('Activities log:')\n",
    "    sandbox_log = sections[0].strip()\n",
    "    activities_log = sections[1].split('Trade History:')[0]\n",
    "    # sandbox_log_list = [json.loads(line) for line in sandbox_log.split('\\n')]\n",
    "    trade_history = json.loads(sections[1].split('Trade History:')[1])\n",
    "    # sandbox_log_df = pd.DataFrame(sandbox_log_list)\n",
    "    market_data_df = pd.read_csv(io.StringIO(activities_log), sep=\";\", header=0)\n",
    "    trade_history_df = pd.json_normalize(trade_history)\n",
    "    # print(sections[1])\n",
    "    return market_data_df, trade_history_df"
   ],
   "metadata": {
    "collapsed": false
   }
  },
  {
   "cell_type": "code",
   "execution_count": null,
   "outputs": [],
   "source": [
    "\n",
    "position_limit = {\n",
    "        'RAINFOREST_RESIN': 50,\n",
    "        'SQUID_INK': 50,\n",
    "        'KELP': 50,\n",
    "        'CROISSANTS': 250,\n",
    "        'JAMS': 350,\n",
    "        'DJEMBES': 60,\n",
    "        'PICNIC_BASKET1': 60,\n",
    "        'PICNIC_BASKET2': 100\n",
    "    }\n",
    "\n",
    "fair_calculations = {\n",
    "        \"RAINFOREST_RESIN\": calculate_RAINFOREST_RESIN_fair,\n",
    "        \"SQUID_INK\": calculate_SQUID_INK_fair\n",
    "    }\n",
    "# run\n",
    "all_backtesters = []\n",
    "backtest_dir = \"backtestruns\"\n",
    "for i in range(6):\n",
    "    if i in [0,1,2]:\n",
    "        day = i - 1\n",
    "    #day = -1\n",
    "        market_data = pd.read_csv(f\"./round-2-island-data-bottle/prices_round_2_day_{day}.csv\", sep=\";\", header=0)\n",
    "        trade_history = pd.read_csv(f\"./round-2-island-data-bottle/trades_round_2_day_{day}.csv\", sep=\";\", header=0)\n",
    "\n",
    "        # market_data, trade_history = _process_data_('./webruns/aggress_time.log')\n",
    "        # market_data, trade_history = _process_data_('./webruns/null_strategy.log')\n",
    "        trader = Trader()\n",
    "        #backtester = Backtester(trader, listings, position_limit, fair_calculations, market_data, trade_history,\"trade_history_sim.log\", False, None)\n",
    "        results, runned_backtester = run_backtests(trader, listings, position_limit, fair_calculations, market_data, trade_history, backtest_dir, params_grid, \"SQUID_INK\")\n",
    "        print(runned_backtester.pnl['SQUID_INK'])\n",
    "        all_backtesters.append(copy.deepcopy(runned_backtester))\n",
    "    elif i in [3,4,5]:\n",
    "        listings3 = { 'RAINFOREST_RESIN': Listing(symbol='RAINFOREST_RESIN', product='RAINFOREST_RESIN', denomination='SEASHELLS'),\n",
    "        'SQUID_INK': Listing(symbol='SQUID_INK', product='SQUID_INK', denomination='SEASHELLS'),\n",
    "         'KELP': Listing(symbol='KELP', product='KELP', denomination='SEASHELLS'),\n",
    "         'CROISSANTS': Listing(symbol='CROISSANTS', product='CROISSANTS', denomination='SEASHELLS'),\n",
    "        'JAMS': Listing(symbol='JAMS', product='JAMS', denomination='SEASHELLS'),\n",
    "        'DJEMBES': Listing(symbol='DJEMBES', product='DJEMBES', denomination='SEASHELLS'),\n",
    "         'PICNIC_BASKET1': Listing(symbol='PICNIC_BASKET1', product='PICNIC_BASKET1', denomination='SEASHELLS'),\n",
    "        'PICNIC_BASKET2': Listing(symbol='PICNIC_BASKET2', product='PICNIC_BASKET2', denomination='SEASHELLS'),\n",
    "\n",
    "        'VOLCANIC_ROCK': Listing(symbol='VOLCANIC_ROCK', product='VOLCANIC_ROCK', denomination='SEASHELLS'),\n",
    "        'VOLCANIC_ROCK_VOUCHER_9500': Listing(symbol='VOLCANIC_ROCK_VOUCHER_9500', product='VOLCANIC_ROCK_VOUCHER_9500', denomination='SEASHELLS'),\n",
    "        'VOLCANIC_ROCK_VOUCHER_9750': Listing(symbol='VOLCANIC_ROCK_VOUCHER_9750', product='VOLCANIC_ROCK_VOUCHER_9750', denomination='SEASHELLS'),\n",
    "         'VOLCANIC_ROCK_VOUCHER_10000': Listing(symbol='VOLCANIC_ROCK_VOUCHER_10000', product='VOLCANIC_ROCK_VOUCHER_10000', denomination='SEASHELLS'),\n",
    "         'VOLCANIC_ROCK_VOUCHER_10250': Listing(symbol='VOLCANIC_ROCK_VOUCHER_10250', product='VOLCANIC_ROCK_VOUCHER_10250', denomination='SEASHELLS'),\n",
    "         'VOLCANIC_ROCK_VOUCHER_10500': Listing(symbol='VOLCANIC_ROCK_VOUCHER_10500', product='VOLCANIC_ROCK_VOUCHER_10500', denomination='SEASHELLS'),\n",
    "         }\n",
    "\n",
    "        position_limit3 = {\n",
    "        'RAINFOREST_RESIN': 50,\n",
    "        'SQUID_INK': 50,\n",
    "        'KELP': 50,\n",
    "        'CROISSANTS': 250,\n",
    "        'JAMS': 350,\n",
    "        'DJEMBES': 60,\n",
    "        'PICNIC_BASKET1': 60,\n",
    "        'PICNIC_BASKET2': 100,\n",
    "        'VOLCANIC_ROCK_VOUCHER_9500': 200,\n",
    "        'VOLCANIC_ROCK_VOUCHER_9750': 200,\n",
    "         'VOLCANIC_ROCK_VOUCHER_10000': 200,\n",
    "        }\n",
    "\n",
    "        day = i - 3\n",
    "        #day = -1\n",
    "        market_data = pd.read_csv(f\"./round-3-island-data-bottle/prices_round_3_day_{day}.csv\", sep=\";\", header=0)\n",
    "        trade_history = pd.read_csv(f\"./round-3-island-data-bottle/trades_round_3_day_{day}.csv\", sep=\";\", header=0)\n",
    "        trader = Trader()\n",
    "        results, runned_backtester = run_backtests(trader, listings3, position_limit3, fair_calculations, market_data, trade_history, backtest_dir, params_grid, \"SQUID_INK\")\n",
    "        print(params_grid)\n",
    "        print(runned_backtester.pnl['SQUID_INK'])\n",
    "        all_backtesters.append(copy.deepcopy(runned_backtester))\n"
   ],
   "metadata": {
    "collapsed": false
   }
  },
  {
   "cell_type": "code",
   "execution_count": null,
   "outputs": [],
   "source": [],
   "metadata": {
    "collapsed": false
   }
  }
 ],
 "metadata": {
  "kernelspec": {
   "display_name": "Python 3",
   "language": "python",
   "name": "python3"
  },
  "language_info": {
   "codemirror_mode": {
    "name": "ipython",
    "version": 2
   },
   "file_extension": ".py",
   "mimetype": "text/x-python",
   "name": "python",
   "nbconvert_exporter": "python",
   "pygments_lexer": "ipython2",
   "version": "2.7.6"
  }
 },
 "nbformat": 4,
 "nbformat_minor": 0
}
