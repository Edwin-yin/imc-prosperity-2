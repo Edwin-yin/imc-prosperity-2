{
 "cells": [
  {
   "cell_type": "code",
   "execution_count": 1,
   "metadata": {
    "collapsed": true
   },
   "outputs": [],
   "source": [
    "import copy\n",
    "from typing import Dict, List, Any\n",
    "import pandas as pd\n",
    "import json\n",
    "from collections import defaultdict\n",
    "import numpy as np\n",
    "import plotly.graph_objects as go\n",
    "import matplotlib.pyplot as plt\n",
    "from datamodel import TradingState, Listing, OrderDepth, Trade, Observation, Order, UserId\n",
    "%reload_ext autoreload\n",
    "%autoreload 2"
   ]
  },
  {
   "cell_type": "code",
   "execution_count": 3,
   "outputs": [],
   "source": [
    "from round_2_ink import Trader\n",
    "from backtester import Backtester"
   ],
   "metadata": {
    "collapsed": false
   }
  },
  {
   "cell_type": "code",
   "execution_count": null,
   "outputs": [],
   "source": [
    "def calculate_SQUID_INK_fair(order_depth):\n",
    "        # assumes order_depth has orders in it\n",
    "        best_ask = min(order_depth.sell_orders.keys())\n",
    "        best_bid = max(order_depth.buy_orders.keys())\n",
    "        filtered_ask = [price for price in order_depth.sell_orders.keys() if abs(order_depth.sell_orders[price]) >= 15]\n",
    "        filtered_bid = [price for price in order_depth.buy_orders.keys() if abs(order_depth.buy_orders[price]) >= 15]\n",
    "        mm_ask = min(filtered_ask) if len(filtered_ask) > 0 else best_ask\n",
    "        mm_bid = max(filtered_bid) if len(filtered_bid) > 0 else best_bid\n",
    "\n",
    "        mmmid_price = (mm_ask + mm_bid) / 2\n",
    "        return mmmid_price\n",
    "\n",
    "\n",
    "def calculate_RAINFOREST_RESIN_fair(order_depth):\n",
    "        return 10000\n",
    "listings = {\n",
    "        'RAINFOREST_RESIN': Listing(symbol='RAINFOREST_RESIN', product='RAINFOREST_RESIN', denomination='SEASHELLS'),\n",
    "        'SQUID_INK': Listing(symbol='SQUID_INK', product='SQUID_INK', denomination='SEASHELLS'),\n",
    "        'KELP': Listing(symbol='KELP', product='KELP', denomination='SEASHELLS'),\n",
    "        'CROISSANTS': Listing(symbol='CROISSANTS', product='CROISSANTS', denomination='SEASHELLS'),\n",
    "        'JAMS': Listing(symbol='JAMS', product='JAMS', denomination='SEASHELLS'),\n",
    "        'DJEMBES': Listing(symbol='DJEMBES', product='DJEMBES', denomination='SEASHELLS'),\n",
    "        'PICNIC_BASKET1': Listing(symbol='PICNIC_BASKET1', product='PICNIC_BASKET1', denomination='SEASHELLS'),\n",
    "        'PICNIC_BASKET2': Listing(symbol='PICNIC_BASKET2', product='PICNIC_BASKET2', denomination='SEASHELLS'),\n",
    "    }\n",
    "\n",
    "position_limit = {\n",
    "        'RAINFOREST_RESIN': 50,\n",
    "        'SQUID_INK': 50,\n",
    "        'KELP': 50,\n",
    "        'CROISSANTS': 250,\n",
    "        'JAMS': 350,\n",
    "        'DJEMBES': 60,\n",
    "        'PICNIC_BASKET1': 60,\n",
    "        'PICNIC_BASKET2': 100\n",
    "    }\n",
    "\n",
    "fair_calculations = {\n",
    "        \"RAINFOREST_RESIN\": calculate_RAINFOREST_RESIN_fair,\n",
    "        \"SQUID_INK\": calculate_SQUID_INK_fair\n",
    "    }\n",
    "# run\n",
    "all_backtesters = []\n",
    "for day in [-1,0,1]:\n",
    "#day = -1\n",
    "    market_data = pd.read_csv(f\"./round-2-island-data-bottle/prices_round_2_day_{day}.csv\", sep=\";\", header=0)\n",
    "    trade_history = pd.read_csv(f\"./round-2-island-data-bottle/trades_round_2_day_{day}.csv\", sep=\";\", header=0)\n",
    "    import io\n",
    "    def _process_data_(file):\n",
    "        with open(file, 'r') as file:\n",
    "                log_content = file.read()\n",
    "        sections = log_content.split('Sandbox logs:')[1].split('Activities log:')\n",
    "        sandbox_log = sections[0].strip()\n",
    "        activities_log = sections[1].split('Trade History:')[0]\n",
    "        # sandbox_log_list = [json.loads(line) for line in sandbox_log.split('\\n')]\n",
    "        trade_history = json.loads(sections[1].split('Trade History:')[1])\n",
    "        # sandbox_log_df = pd.DataFrame(sandbox_log_list)\n",
    "        market_data_df = pd.read_csv(io.StringIO(activities_log), sep=\";\", header=0)\n",
    "        trade_history_df = pd.json_normalize(trade_history)\n",
    "        # print(sections[1])\n",
    "        return market_data_df, trade_history_df\n",
    "    # market_data, trade_history = _process_data_('./webruns/aggress_time.log')\n",
    "    # market_data, trade_history = _process_data_('./webruns/null_strategy.log')\n",
    "    trader = Trader()\n",
    "    backtester = Backtester(trader, listings, position_limit, fair_calculations, market_data, trade_history, \"trade_history_sim.log\", False, None)\n",
    "    backtester.run()\n",
    "    print(backtester.pnl)\n",
    "    all_backtesters.append(copy.deepcopy(backtester))\n"
   ],
   "metadata": {
    "collapsed": false
   }
  },
  {
   "cell_type": "code",
   "execution_count": null,
   "outputs": [],
   "source": [
    "print(all_backtesters[1].position_history['SQUID_INK'][400:420])"
   ],
   "metadata": {
    "collapsed": false
   }
  },
  {
   "cell_type": "code",
   "execution_count": null,
   "outputs": [],
   "source": [
    "for day in [0]:\n",
    "    market_data = pd.read_csv(f\"./round-2-island-data-bottle/prices_round_2_day_{day}.csv\", sep=\";\", header=0)\n",
    "    trade_history = pd.read_csv(f\"./round-2-island-data-bottle/trades_round_2_day_{day}.csv\", sep=\";\", header=0)\n",
    "    i = day + 1\n",
    "    backtester = all_backtesters[i]\n",
    "    df_ink = market_data[market_data['product'] == 'SQUID_INK']\n",
    "    max_pos = max(np.abs(backtester.position_history['SQUID_INK']))\n",
    "    fig = go.Figure()\n",
    "    max_pnl = max(backtester.pnl_history['SQUID_INK'])\n",
    "    # 添加第一条折线（左侧Y轴）\n",
    "    fig.add_trace(go.Scatter(x=df_ink['timestamp'] / 100, y=np.array(backtester.pnl_history['SQUID_INK'])*50/max_pnl, mode='lines+markers', name='pnl', yaxis='y'))\n",
    "\n",
    "    # 添加第二条折线（右侧Y轴）\n",
    "    fig.add_trace(go.Scatter(x=df_ink['timestamp'] / 100, y=np.array(backtester.position_history['SQUID_INK']), mode='lines+markers', name='pos', yaxis='y2'))\n",
    "\n",
    "    # 添加第三条折线（右侧Y轴）\n",
    "    fig.add_trace(go.Scatter(x=df_ink['timestamp'] / 100, y=np.array(df_ink['mid_price'])*50/np.nanmax(df_ink['mid_price']), mode='lines+markers', name='price', yaxis='y3'))\n",
    "    fig.update_layout(\n",
    "    # 默认的 y 轴（左侧）\n",
    "    yaxis=dict(\n",
    "        title='pnl'\n",
    "    ),\n",
    "    # 第二个 y 轴（右侧，通常与主轴重叠）\n",
    "    yaxis2=dict(\n",
    "        title='pos',\n",
    "        overlaying='y',  # 与 y 轴重叠\n",
    "        side='right'     # 放置在右侧\n",
    "    ),\n",
    "    # 第三个 y 轴（右侧，位置可以做调整，避免与 yaxis2 重叠）\n",
    "    yaxis3=dict(\n",
    "        title='price',\n",
    "        overlaying='y',  # 与 y 轴重叠\n",
    "        side='right',\n",
    "        position=0.85    # 控制该轴在水平方向的位置\n",
    "    )\n",
    "    )\n",
    "    print(max_pnl,max_pos,np.nanmax(df_ink['mid_price']))\n",
    "\n",
    "    # 显示图形\n",
    "    fig.show()"
   ],
   "metadata": {
    "collapsed": false
   }
  },
  {
   "cell_type": "code",
   "execution_count": null,
   "outputs": [],
   "source": [
    "for day in [1]:\n",
    "    market_data = pd.read_csv(f\"./round-2-island-data-bottle/prices_round_2_day_{day}.csv\", sep=\";\", header=0)\n",
    "    trade_history = pd.read_csv(f\"./round-2-island-data-bottle/trades_round_2_day_{day}.csv\", sep=\";\", header=0)\n",
    "    i = day + 1\n",
    "    backtester = all_backtesters[i]\n",
    "    df_ink = market_data[market_data['product'] == 'SQUID_INK']\n",
    "    max_pos = max(np.abs(backtester.position_history['SQUID_INK']))\n",
    "    fig = go.Figure()\n",
    "    max_pnl = max(backtester.pnl_history['SQUID_INK'])\n",
    "    # 添加第一条折线（左侧Y轴）\n",
    "    fig.add_trace(go.Scatter(x=df_ink['timestamp'] / 100, y=np.array(backtester.pnl_history['SQUID_INK'])*50/max_pnl, mode='lines+markers', name='pnl', yaxis='y'))\n",
    "\n",
    "    # 添加第二条折线（右侧Y轴）\n",
    "    fig.add_trace(go.Scatter(x=df_ink['timestamp'] / 100, y=np.array(backtester.position_history['SQUID_INK']), mode='lines+markers', name='pos', yaxis='y2'))\n",
    "\n",
    "    # 添加第三条折线（右侧Y轴）\n",
    "    fig.add_trace(go.Scatter(x=df_ink['timestamp'] / 100, y=np.array(df_ink['mid_price'])*50/np.nanmax(df_ink['mid_price']), mode='lines+markers', name='price', yaxis='y3'))\n",
    "    fig.update_layout(\n",
    "    # 默认的 y 轴（左侧）\n",
    "    yaxis=dict(\n",
    "        title='pnl'\n",
    "    ),\n",
    "    # 第二个 y 轴（右侧，通常与主轴重叠）\n",
    "    yaxis2=dict(\n",
    "        title='pos',\n",
    "        overlaying='y',  # 与 y 轴重叠\n",
    "        side='right'     # 放置在右侧\n",
    "    ),\n",
    "    # 第三个 y 轴（右侧，位置可以做调整，避免与 yaxis2 重叠）\n",
    "    yaxis3=dict(\n",
    "        title='price',\n",
    "        overlaying='y',  # 与 y 轴重叠\n",
    "        side='right',\n",
    "        position=0.85    # 控制该轴在水平方向的位置\n",
    "    )\n",
    "    )\n",
    "    print(max_pnl,max_pos,np.nanmax(df_ink['mid_price']))\n",
    "\n",
    "    # 显示图形\n",
    "    fig.show()"
   ],
   "metadata": {
    "collapsed": false
   }
  },
  {
   "cell_type": "code",
   "execution_count": null,
   "outputs": [],
   "source": [
    "np.array(df_ink['mid_price'][1980:2010])"
   ],
   "metadata": {
    "collapsed": false
   }
  },
  {
   "cell_type": "code",
   "execution_count": null,
   "outputs": [],
   "source": [
    "np.array(np.array(backtester.position_history['SQUID_INK'][1980:2010]))"
   ],
   "metadata": {
    "collapsed": false
   }
  },
  {
   "cell_type": "code",
   "execution_count": null,
   "outputs": [],
   "source": [
    "np.arr"
   ],
   "metadata": {
    "collapsed": false
   }
  },
  {
   "cell_type": "code",
   "execution_count": null,
   "outputs": [],
   "source": [
    "all_round3_backtesters = []\n",
    "listings3 = { 'RAINFOREST_RESIN': Listing(symbol='RAINFOREST_RESIN', product='RAINFOREST_RESIN', denomination='SEASHELLS'),\n",
    "'SQUID_INK': Listing(symbol='SQUID_INK', product='SQUID_INK', denomination='SEASHELLS'),\n",
    " 'KELP': Listing(symbol='KELP', product='KELP', denomination='SEASHELLS'),\n",
    " 'CROISSANTS': Listing(symbol='CROISSANTS', product='CROISSANTS', denomination='SEASHELLS'),\n",
    "'JAMS': Listing(symbol='JAMS', product='JAMS', denomination='SEASHELLS'),\n",
    "'DJEMBES': Listing(symbol='DJEMBES', product='DJEMBES', denomination='SEASHELLS'),\n",
    " 'PICNIC_BASKET1': Listing(symbol='PICNIC_BASKET1', product='PICNIC_BASKET1', denomination='SEASHELLS'),\n",
    "'PICNIC_BASKET2': Listing(symbol='PICNIC_BASKET2', product='PICNIC_BASKET2', denomination='SEASHELLS'),\n",
    "\n",
    "'VOLCANIC_ROCK': Listing(symbol='VOLCANIC_ROCK', product='VOLCANIC_ROCK', denomination='SEASHELLS'),\n",
    "'VOLCANIC_ROCK_VOUCHER_9500': Listing(symbol='VOLCANIC_ROCK_VOUCHER_9500', product='VOLCANIC_ROCK_VOUCHER_9500', denomination='SEASHELLS'),\n",
    "'VOLCANIC_ROCK_VOUCHER_9750': Listing(symbol='VOLCANIC_ROCK_VOUCHER_9750', product='VOLCANIC_ROCK_VOUCHER_9750', denomination='SEASHELLS'),\n",
    " 'VOLCANIC_ROCK_VOUCHER_10000': Listing(symbol='VOLCANIC_ROCK_VOUCHER_10000', product='VOLCANIC_ROCK_VOUCHER_10000', denomination='SEASHELLS'),\n",
    " 'VOLCANIC_ROCK_VOUCHER_10250': Listing(symbol='VOLCANIC_ROCK_VOUCHER_10250', product='VOLCANIC_ROCK_VOUCHER_10250', denomination='SEASHELLS'),\n",
    " 'VOLCANIC_ROCK_VOUCHER_10500': Listing(symbol='VOLCANIC_ROCK_VOUCHER_10500', product='VOLCANIC_ROCK_VOUCHER_10500', denomination='SEASHELLS'),\n",
    " }\n",
    "\n",
    "position_limit3 = {\n",
    "'RAINFOREST_RESIN': 50,\n",
    "'SQUID_INK': 50,\n",
    "'KELP': 50,\n",
    "'CROISSANTS': 250,\n",
    "'JAMS': 350,\n",
    "'DJEMBES': 60,\n",
    "'PICNIC_BASKET1': 60,\n",
    "'PICNIC_BASKET2': 100,\n",
    "'VOLCANIC_ROCK_VOUCHER_9500': 200,\n",
    "'VOLCANIC_ROCK_VOUCHER_9750': 200,\n",
    " 'VOLCANIC_ROCK_VOUCHER_10000': 200,\n",
    "}\n",
    "\n",
    "for day in [0,1,2]:\n",
    "#day = -1\n",
    "    market_data = pd.read_csv(f\"./round-3-island-data-bottle/prices_round_3_day_{day}.csv\", sep=\";\", header=0)\n",
    "    trade_history = pd.read_csv(f\"./round-3-island-data-bottle/trades_round_3_day_{day}.csv\", sep=\";\", header=0)\n",
    "    df_ink = market_data[market_data['product'] == 'SQUID_INK']\n",
    "    print(np.where(np.isnan(df_ink['bid_volume_1'])))\n",
    "    import io\n",
    "    def _process_data_(file):\n",
    "        with open(file, 'r') as file:\n",
    "                log_content = file.read()\n",
    "        sections = log_content.split('Sandbox logs:')[1].split('Activities log:')\n",
    "        sandbox_log = sections[0].strip()\n",
    "        activities_log = sections[1].split('Trade History:')[0]\n",
    "        # sandbox_log_list = [json.loads(line) for line in sandbox_log.split('\\n')]\n",
    "        trade_history = json.loads(sections[1].split('Trade History:')[1])\n",
    "        # sandbox_log_df = pd.DataFrame(sandbox_log_list)\n",
    "        market_data_df = pd.read_csv(io.StringIO(activities_log), sep=\";\", header=0)\n",
    "        trade_history_df = pd.json_normalize(trade_history)\n",
    "        # print(sections[1])\n",
    "        return market_data_df, trade_history_df\n",
    "    # market_data, trade_history = _process_data_('./webruns/aggress_time.log')\n",
    "    # market_data, trade_history = _process_data_('./webruns/null_strategy.log')\n",
    "    trader = Trader()\n",
    "\n",
    "    backtester = Backtester(trader, listings3, position_limit3, {}, market_data, trade_history, \"trade_history_sim.log\", False, None)\n",
    "    backtester.run()\n",
    "    print(backtester.pnl)\n",
    "    all_round3_backtesters.append(copy.deepcopy(backtester))"
   ],
   "metadata": {
    "collapsed": false
   }
  },
  {
   "cell_type": "code",
   "execution_count": null,
   "outputs": [],
   "source": [],
   "metadata": {
    "collapsed": false
   }
  }
 ],
 "metadata": {
  "kernelspec": {
   "display_name": "Python 3",
   "language": "python",
   "name": "python3"
  },
  "language_info": {
   "codemirror_mode": {
    "name": "ipython",
    "version": 2
   },
   "file_extension": ".py",
   "mimetype": "text/x-python",
   "name": "python",
   "nbconvert_exporter": "python",
   "pygments_lexer": "ipython2",
   "version": "2.7.6"
  }
 },
 "nbformat": 4,
 "nbformat_minor": 0
}
