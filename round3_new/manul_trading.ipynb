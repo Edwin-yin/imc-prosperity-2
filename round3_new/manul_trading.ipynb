{
 "cells": [
  {
   "cell_type": "code",
   "execution_count": 2,
   "id": "1bf54672-86e6-411a-b375-97d18f919e76",
   "metadata": {},
   "outputs": [],
   "source": [
    "import numpy as np\n",
    "import math"
   ]
  },
  {
   "cell_type": "markdown",
   "id": "c43bc46e-8f61-4f9f-be5d-66e256c8e2df",
   "metadata": {},
   "source": [
    "# Problem statement\n",
    "*Note*: this problem is an extension of the problem from Round 1.\n",
    "\n",
    "The goldfish are back with more `SCUBA_GEAR`. Each of the goldfish will have new reserve prices, but they still follow the same distribution as in Round 1.\n",
    "\n",
    "Your trade options are similar to before. You’ll have two chances to offer a good price. Each one of the goldfish will accept the lowest bid that is over their reserve price. But this time, for your second bid, they also take into account the average of the second bids by other traders in the archipelago. They’ll trade with you when your offer is above the average of all second bids. But if you end up under the average, the probability of a deal decreases rapidly.\n",
    "\n",
    "To simulate this probability, the PNL obtained from trading with a fish for which your second bid is under the average of all second bids will be scaled by a factor *p*:\n",
    "\n",
    "$$\n",
    "p = (320 – \\text{average bid}) / (320 – \\text{your bid})**3\n",
    "$$\n",
    "\n",
    "What can you learn from the available data and how will you anticipate on this new dynamic?\n",
    "\n",
    "# Solution\n",
    "\n",
    "\n",
    "Let $\\bar p$ denote the (ex post) average of second (i.e., highest) bids over all teams in Round 4.\n",
    "\n",
    "With the notation from Round 1, the surrogate objective function (expected profit for a single fish) is  \n",
    "$$(p_l, p_h)\\mapsto (320-p_l)\\int_{900}^{p_l} (\\alpha r + \\beta) dr + (1000-p_h)\\int_{p_l}^{p_h} (\\alpha r + \\beta) dr\n",
    "\\Big(1_{\\bar p \\leq p_h} + 1_{\\bar p > p_h} \\frac{1000-\\bar p}{1000-p_h}  \\Big).$$\n",
    "\n",
    "### Closed solution\n",
    "\n",
    "if p_l = (210 + p_h)/2 (if p_l>250) or p_l = (160+p_h)/2 given p_h > 250, p_l =200"
   ]
  },
  {
   "cell_type": "code",
   "execution_count": 12,
   "id": "7ca6a606-dd3b-454a-91ed-57bd637e69cc",
   "metadata": {},
   "outputs": [],
   "source": [
    "def solve(p_avg):\n",
    "    \"\"\"Given the average of second bids, find the optimal low and high bids.\n",
    "\n",
    "    Parameters\n",
    "    ----------\n",
    "    p_avg : float\n",
    "        Average value of second bids.\n",
    "    \n",
    "    Returns\n",
    "    -------\n",
    "    argmax : list of tuple\n",
    "        Maximizers.\n",
    "    val_max : float\n",
    "        Maximal profit.\n",
    "    \"\"\"\n",
    "    val_max = float('-inf')\n",
    "    argmax = []\n",
    "    for h in range(250, 320):\n",
    "        temp2 = (320 - h) * (h-250)\n",
    "        val = temp2 * (1 if p_avg <= h else ((320-p_avg)/(320-h))**3)\n",
    "        if math.isclose(val, val_max):\n",
    "            argmax.append((200, h, val))\n",
    "        if val > val_max:\n",
    "            val_max = val\n",
    "            argmax = [(200, h)]\n",
    "    return argmax, val_max\n",
    "\n",
    "def print_score(p_avg):\n",
    "    val_list = []\n",
    "    for h in np.arange(286,295):\n",
    "        temp2 = (320 - h) * (h-250)\n",
    "        val = temp2 * (1 if p_avg <= h else ((320-p_avg)/(320-h))**3)\n",
    "        val_list.append(val)\n",
    "    return val_list"
   ]
  },
  {
   "cell_type": "code",
   "execution_count": 5,
   "id": "798eb9f5-07f8-45b5-90e4-b9512af7f58f",
   "metadata": {},
   "outputs": [
    {
     "name": "stdout",
     "output_type": "stream",
     "text": [
      "p_avg: 285.0   Maximizer: (200, 285)  Profit: 1225.00\n",
      "p_avg: 285.5   Maximizer: (200, 286)  Profit: 1224.00\n",
      "p_avg: 286.0   Maximizer: (200, 286)  Profit: 1224.00\n",
      "p_avg: 286.5   Maximizer: (200, 287)  Profit: 1221.00\n",
      "p_avg: 287.0   Maximizer: (200, 287)  Profit: 1221.00\n",
      "p_avg: 287.5   Maximizer: (200, 288)  Profit: 1216.00\n",
      "p_avg: 288.0   Maximizer: (200, 288)  Profit: 1216.00\n",
      "p_avg: 288.5   Maximizer: (200, 289)  Profit: 1209.00\n",
      "p_avg: 289.0   Maximizer: (200, 289)  Profit: 1209.00\n",
      "p_avg: 289.5   Maximizer: (200, 290)  Profit: 1200.00\n",
      "p_avg: 290.0   Maximizer: (200, 290)  Profit: 1200.00\n",
      "p_avg: 290.5   Maximizer: (200, 291)  Profit: 1189.00\n",
      "p_avg: 291.0   Maximizer: (200, 291)  Profit: 1189.00\n",
      "p_avg: 291.5   Maximizer: (200, 292)  Profit: 1176.00\n",
      "p_avg: 292.0   Maximizer: (200, 292)  Profit: 1176.00\n",
      "p_avg: 292.5   Maximizer: (200, 293)  Profit: 1161.00\n",
      "p_avg: 293.0   Maximizer: (200, 293)  Profit: 1161.00\n",
      "p_avg: 293.5   Maximizer: (200, 294)  Profit: 1144.00\n",
      "p_avg: 294.0   Maximizer: (200, 294)  Profit: 1144.00\n",
      "p_avg: 294.5   Maximizer: (200, 295)  Profit: 1125.00\n",
      "p_avg: 295.0   Maximizer: (200, 295)  Profit: 1125.00\n",
      "p_avg: 295.5   Maximizer: (200, 296)  Profit: 1104.00\n",
      "p_avg: 296.0   Maximizer: (200, 296)  Profit: 1104.00\n",
      "p_avg: 296.5   Maximizer: (200, 297)  Profit: 1081.00\n",
      "p_avg: 297.0   Maximizer: (200, 297)  Profit: 1081.00\n",
      "p_avg: 297.5   Maximizer: (200, 298)  Profit: 1056.00\n",
      "p_avg: 298.0   Maximizer: (200, 298)  Profit: 1056.00\n",
      "p_avg: 298.5   Maximizer: (200, 299)  Profit: 1029.00\n",
      "p_avg: 299.0   Maximizer: (200, 299)  Profit: 1029.00\n",
      "p_avg: 299.5   Maximizer: (200, 300)  Profit: 1000.00\n",
      "p_avg: 300.0   Maximizer: (200, 300)  Profit: 1000.00\n",
      "p_avg: 300.5   Maximizer: (200, 301)  Profit: 969.00\n",
      "p_avg: 301.0   Maximizer: (200, 301)  Profit: 969.00\n",
      "p_avg: 301.5   Maximizer: (200, 302)  Profit: 936.00\n",
      "p_avg: 302.0   Maximizer: (200, 302)  Profit: 936.00\n",
      "p_avg: 302.5   Maximizer: (200, 303)  Profit: 901.00\n",
      "p_avg: 303.0   Maximizer: (200, 303)  Profit: 901.00\n",
      "p_avg: 303.5   Maximizer: (200, 304)  Profit: 864.00\n",
      "p_avg: 304.0   Maximizer: (200, 304)  Profit: 864.00\n",
      "p_avg: 304.5   Maximizer: (200, 305)  Profit: 825.00\n",
      "p_avg: 305.0   Maximizer: (200, 305)  Profit: 825.00\n",
      "p_avg: 305.5   Maximizer: (200, 306)  Profit: 784.00\n",
      "p_avg: 306.0   Maximizer: (200, 306)  Profit: 784.00\n",
      "p_avg: 306.5   Maximizer: (200, 307)  Profit: 741.00\n",
      "p_avg: 307.0   Maximizer: (200, 307)  Profit: 741.00\n",
      "p_avg: 307.5   Maximizer: (200, 308)  Profit: 696.00\n",
      "p_avg: 308.0   Maximizer: (200, 308)  Profit: 696.00\n",
      "p_avg: 308.5   Maximizer: (200, 309)  Profit: 649.00\n",
      "p_avg: 309.0   Maximizer: (200, 309)  Profit: 649.00\n",
      "p_avg: 309.5   Maximizer: (200, 310)  Profit: 600.00\n",
      "p_avg: 310.0   Maximizer: (200, 310)  Profit: 600.00\n",
      "p_avg: 310.5   Maximizer: (200, 311)  Profit: 549.00\n",
      "p_avg: 311.0   Maximizer: (200, 311)  Profit: 549.00\n",
      "p_avg: 311.5   Maximizer: (200, 312)  Profit: 496.00\n",
      "p_avg: 312.0   Maximizer: (200, 312)  Profit: 496.00\n",
      "p_avg: 312.5   Maximizer: (200, 313)  Profit: 441.00\n",
      "p_avg: 313.0   Maximizer: (200, 313)  Profit: 441.00\n",
      "p_avg: 313.5   Maximizer: (200, 314)  Profit: 384.00\n",
      "p_avg: 314.0   Maximizer: (200, 314)  Profit: 384.00\n",
      "p_avg: 314.5   Maximizer: (200, 315)  Profit: 325.00\n",
      "p_avg: 315.0   Maximizer: (200, 315)  Profit: 325.00\n",
      "p_avg: 315.5   Maximizer: (200, 316)  Profit: 264.00\n",
      "p_avg: 316.0   Maximizer: (200, 316)  Profit: 264.00\n",
      "p_avg: 316.5   Maximizer: (200, 317)  Profit: 201.00\n",
      "p_avg: 317.0   Maximizer: (200, 317)  Profit: 201.00\n",
      "p_avg: 317.5   Maximizer: (200, 318)  Profit: 136.00\n",
      "p_avg: 318.0   Maximizer: (200, 318)  Profit: 136.00\n",
      "p_avg: 318.5   Maximizer: (200, 319)  Profit: 69.00\n",
      "p_avg: 319.0   Maximizer: (200, 319)  Profit: 69.00\n",
      "p_avg: 319.5   Maximizer: (200, 319)  Profit: 8.62\n"
     ]
    }
   ],
   "source": [
    "for p_avg in np.arange(285,320,0.5):\n",
    "    argmax, val_max = solve(p_avg)\n",
    "    if len(argmax) > 1:\n",
    "        print(\"p_avg:\", p_avg, \"  Maximizers:\", argmax, \" Profit:\", f\"{val_max:.2f}\")\n",
    "    else:\n",
    "        print(\"p_avg:\", p_avg, \"  Maximizer:\", argmax[0], \" Profit:\", f\"{val_max:.2f}\")"
   ]
  },
  {
   "cell_type": "code",
   "execution_count": 13,
   "outputs": [
    {
     "name": "stdout",
     "output_type": "stream",
     "text": [
      "p_avg: 286.0   Profit: 1224.00 1221.00 1216.00 1209.00 1200.00 1189.00\n",
      "p_avg: 286.5   Profit: 1170.79 1221.00 1216.00 1209.00 1200.00 1189.00\n",
      "p_avg: 287.0   Profit: 1119.15 1221.00 1216.00 1209.00 1200.00 1189.00\n",
      "p_avg: 287.5   Profit: 1069.04 1166.34 1216.00 1209.00 1200.00 1189.00\n",
      "p_avg: 288.0   Profit: 1020.46 1113.33 1216.00 1209.00 1200.00 1189.00\n",
      "p_avg: 288.5   Profit: 973.37 1061.95 1159.89 1209.00 1200.00 1189.00\n",
      "p_avg: 289.0   Profit: 927.75 1012.18 1105.53 1209.00 1200.00 1189.00\n",
      "p_avg: 289.5   Profit: 883.58 963.99 1052.89 1151.44 1200.00 1189.00\n",
      "p_avg: 290.0   Profit: 840.83 917.36 1001.95 1095.73 1200.00 1189.00\n",
      "p_avg: 290.5   Profit: 799.49 872.25 952.69 1041.85 1140.99 1189.00\n",
      "p_avg: 291.0   Profit: 759.52 828.64 905.06 989.77 1083.96 1189.00\n",
      "p_avg: 291.5   Profit: 720.91 786.52 859.05 939.45 1028.85 1128.55\n",
      "p_avg: 292.0   Profit: 683.63 745.84 814.62 890.87 975.64 1070.19\n",
      "p_avg: 292.5   Profit: 647.65 706.60 771.76 843.99 924.31 1013.88\n",
      "p_avg: 293.0   Profit: 612.97 668.75 730.42 798.79 874.80 959.58\n",
      "p_avg: 293.5   Profit: 579.54 632.28 690.59 755.23 827.09 907.25\n",
      "p_avg: 294.0   Profit: 547.35 597.16 652.23 713.28 781.16 856.86\n",
      "p_avg: 294.5   Profit: 516.38 563.37 615.32 672.92 736.95 808.37\n"
     ]
    }
   ],
   "source": [
    "for p_avg in np.arange(286,295,0.5):\n",
    "    val_list = print_score(p_avg)\n",
    "    print(\"p_avg:\", p_avg, \"  Profit:\", f\"{val_list[0]:.2f}\", f\"{val_list[1]:.2f}\", f\"{val_list[2]:.2f}\", f\"{val_list[3]:.2f}\", f\"{val_list[4]:.2f}\", f\"{val_list[5]:.2f}\")"
   ],
   "metadata": {
    "collapsed": false
   }
  },
  {
   "cell_type": "code",
   "execution_count": null,
   "outputs": [],
   "source": [],
   "metadata": {
    "collapsed": false
   }
  },
  {
   "cell_type": "markdown",
   "id": "0d455e48-d994-4907-83e8-476eccefaaff",
   "metadata": {},
   "source": [
    "As long as $\\bar p \\leq 978$, optimal bids are the same as in Round 1.  \n",
    "When $\\bar p > 978$, the maximal profit decreases and the maximizers change as well.\n",
    "\n",
    "If all the teams seeked to maximize their own profit, they would all play $(952, 978)$."
   ]
  },
  {
   "cell_type": "markdown",
   "id": "d13528d0-63fc-403d-b151-9228e13778dc",
   "metadata": {},
   "source": [
    "# Results"
   ]
  },
  {
   "cell_type": "markdown",
   "id": "ae0a93dd-1fcb-4d52-8c60-a67dcb55f93b",
   "metadata": {},
   "source": [
    "As I expected $\\bar p$ to be slightly above $978$, I posited that $\\bar p = 979$ and played $(953, 979)$.\n",
    "\n",
    "<img src=\"https://i.imgur.com/gTAU4NX.png\" width=\"1200\" />\n",
    "\n",
    "The ex post value of $\\bar p$ was $980$."
   ]
  }
 ],
 "metadata": {
  "kernelspec": {
   "display_name": "Python 3 (ipykernel)",
   "language": "python",
   "name": "python3"
  },
  "language_info": {
   "codemirror_mode": {
    "name": "ipython",
    "version": 3
   },
   "file_extension": ".py",
   "mimetype": "text/x-python",
   "name": "python",
   "nbconvert_exporter": "python",
   "pygments_lexer": "ipython3",
   "version": "3.12.2"
  }
 },
 "nbformat": 4,
 "nbformat_minor": 5
}
