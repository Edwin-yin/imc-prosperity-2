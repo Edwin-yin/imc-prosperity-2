{
 "cells": [
  {
   "cell_type": "code",
   "execution_count": 1,
   "metadata": {},
   "outputs": [
    {
     "data": {
      "text/plain": [
       "[[0, 2, 1, 0, 1.08868032],\n",
       " [2, 1, 0, 2, 1.07604224],\n",
       " [1, 0, 0, 2, 1.0738728],\n",
       " [1, 0, 2, 2, 1.0738728],\n",
       " [1, 0, 2, 3, 1.0738728],\n",
       " [1, 1, 0, 2, 1.0738728],\n",
       " [3, 1, 0, 2, 1.0738728],\n",
       " [1, 0, 2, 1, 1.07243136],\n",
       " [0, 1, 0, 2, 1.05380548],\n",
       " [0, 2, 0, 2, 1.0527672480000003]]"
      ]
     },
     "execution_count": 1,
     "metadata": {},
     "output_type": "execute_result"
    }
   ],
   "source": [
    "import numpy as np\n",
    "\n",
    "M = np.array([[1, 1.45, 0.52, 0.72],\n",
    "              [0.7, 1, 0.31, 0.48],\n",
    "              [1.95, 3.1, 1, 1.49],\n",
    "              [1.34, 1.98, 0.64, 1]])\n",
    "\n",
    "combinations = []\n",
    "for i in range(0,4):\n",
    "    for j in range(0,4):\n",
    "        for k in range(0,4):\n",
    "            for l in range(0,4):\n",
    "                pnl = M[3, i] * M[i, j] * M[j, k]* M[k, l] * M[l, 3]\n",
    "                combinations.append([i, j, k, l, pnl])\n",
    "\n",
    "combinations.sort(key=lambda x: x[4], reverse=True)\n",
    "combinations[:10]"
   ]
  },
  {
   "cell_type": "code",
   "execution_count": null,
   "metadata": {},
   "outputs": [],
   "source": []
  }
 ],
 "metadata": {
  "kernelspec": {
   "display_name": "cuda",
   "language": "python",
   "name": "python3"
  },
  "language_info": {
   "codemirror_mode": {
    "name": "ipython",
    "version": 3
   },
   "file_extension": ".py",
   "mimetype": "text/x-python",
   "name": "python",
   "nbconvert_exporter": "python",
   "pygments_lexer": "ipython3",
   "version": "3.12.8"
  }
 },
 "nbformat": 4,
 "nbformat_minor": 2
}
