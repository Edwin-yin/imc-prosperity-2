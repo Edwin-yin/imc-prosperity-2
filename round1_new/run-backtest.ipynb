{
 "cells": [
  {
   "cell_type": "markdown",
   "id": "9ba96ec3",
   "metadata": {},
   "source": [
    "# imports/setup"
   ]
  },
  {
   "cell_type": "code",
   "execution_count": 2,
   "id": "f51d0f2e-b498-485c-acf4-eea427479f01",
   "metadata": {
    "ExecuteTime": {
     "end_time": "2024-04-10T18:22:16.657196Z",
     "start_time": "2024-04-10T18:22:16.127270Z"
    }
   },
   "outputs": [],
   "source": [
    "import datetime\n",
    "import json\n",
    "import pandas as pd\n",
    "from collections import defaultdict\n",
    "from typing import List, Dict, Any\n",
    "import string\n",
    "import jsonpickle\n",
    "import numpy as np\n",
    "import math\n",
    "from datamodel import Listing, ConversionObservation\n",
    "from round_1_new import Trader\n",
    "from backtester import Backtester\n",
    "import io"
   ]
  },
  {
   "cell_type": "markdown",
   "id": "1b505f0b",
   "metadata": {},
   "source": [
    "# backtester"
   ]
  },
  {
   "cell_type": "markdown",
   "id": "f095ca83",
   "metadata": {},
   "source": [
    "# trader"
   ]
  },
  {
   "cell_type": "code",
   "execution_count": 3,
   "id": "9a3e2600",
   "metadata": {
    "ExecuteTime": {
     "end_time": "2024-04-12T00:50:45.517762Z",
     "start_time": "2024-04-12T00:50:45.448861Z"
    }
   },
   "outputs": [],
   "source": [
    "class Product:\n",
    "    RAINFOREST_RESIN = \"RAINFOREST_RESIN\"\n",
    "    SQUID_INK = \"SQUID_INK\"\n",
    "\n",
    "\n",
    "PARAMS = {\n",
    "    Product.RAINFOREST_RESIN: {\n",
    "        \"fair_value\": 10000,\n",
    "        \"take_width\": 1,\n",
    "        \"clear_width\": 0.5,\n",
    "        \"volume_limit\": 0,\n",
    "        # for making\n",
    "        \"disregard_edge\": 1,  # disregards orders for joining or pennying within this value from fair\n",
    "        \"join_edge\": 2,# joins orders within this edge \n",
    "        \"default_edge\": 4\n",
    "    },\n",
    "    Product.SQUID_INK: {\n",
    "        \"take_width\": 1,\n",
    "        \"clear_width\": -0.25,\n",
    "        \"prevent_adverse\": True,\n",
    "        \"adverse_volume\": 15,\n",
    "        \"reversion_beta\": -0.229,\n",
    "        # for making\n",
    "        \"disregard_edge\": 1,\n",
    "        \"join_edge\": 3,\n",
    "        \"default_edge\": 5,\n",
    "    },\n",
    "}"
   ]
  },
  {
   "cell_type": "markdown",
   "id": "b55d0761",
   "metadata": {},
   "source": [
    "# backtest run"
   ]
  },
  {
   "cell_type": "code",
   "execution_count": 4,
   "id": "6905b4c7",
   "metadata": {
    "ExecuteTime": {
     "end_time": "2024-04-11T02:57:41.220315Z",
     "start_time": "2024-04-11T02:57:41.207272Z"
    }
   },
   "outputs": [],
   "source": [
    "def _process_data_(file):\n",
    "    with open(file, 'r') as file:\n",
    "        log_content = file.read()\n",
    "    sections = log_content.split('Sandbox logs:')[1].split('Activities log:')\n",
    "    sandbox_log =  sections[0].strip()\n",
    "    activities_log = sections[1].split('Trade History:')[0]\n",
    "    # sandbox_log_list = [json.loads(line) for line in sandbox_log.split('\\n')]\n",
    "    trade_history =  json.loads(sections[1].split('Trade History:')[1])\n",
    "    # sandbox_log_df = pd.DataFrame(sandbox_log_list)\n",
    "    market_data_df = pd.read_csv(io.StringIO(activities_log), sep=\";\", header=0)\n",
    "    trade_history_df = pd.json_normalize(trade_history)\n",
    "    # print(sections[1])\n",
    "    return market_data_df, trade_history_df"
   ]
  },
  {
   "cell_type": "markdown",
   "id": "8b9980db",
   "metadata": {},
   "source": [
    "### setup"
   ]
  },
  {
   "cell_type": "code",
   "execution_count": 5,
   "id": "d05e0a17",
   "metadata": {
    "ExecuteTime": {
     "end_time": "2024-04-11T21:55:04.300078Z",
     "start_time": "2024-04-11T21:55:04.292963Z"
    }
   },
   "outputs": [],
   "source": [
    "def calculate_SQUID_INK_fair(order_depth):\n",
    "    # assumes order_depth has orders in it \n",
    "    best_ask = min(order_depth.sell_orders.keys())\n",
    "    best_bid = max(order_depth.buy_orders.keys())\n",
    "    filtered_ask = [price for price in order_depth.sell_orders.keys() if abs(order_depth.sell_orders[price]) >= 15]\n",
    "    filtered_bid = [price for price in order_depth.buy_orders.keys() if abs(order_depth.buy_orders[price]) >= 15]\n",
    "    mm_ask = min(filtered_ask) if len(filtered_ask) > 0 else best_ask\n",
    "    mm_bid = max(filtered_bid) if len(filtered_bid) > 0 else best_bid\n",
    "\n",
    "    mmmid_price = (mm_ask + mm_bid) / 2\n",
    "    return mmmid_price\n",
    "    \n",
    "def calculate_RAINFOREST_RESIN_fair(order_depth):\n",
    "    return 10000"
   ]
  },
  {
   "cell_type": "code",
   "execution_count": 6,
   "id": "8d3a56eb",
   "metadata": {
    "ExecuteTime": {
     "end_time": "2024-04-11T21:55:49.748997Z",
     "start_time": "2024-04-11T21:55:49.744374Z"
    }
   },
   "outputs": [],
   "source": [
    "listings = {\n",
    "    'RAINFOREST_RESIN': Listing(symbol='RAINFOREST_RESIN', product='RAINFOREST_RESIN', denomination='SEASHELLS'),\n",
    "    'SQUID_INK': Listing(symbol='SQUID_INK', product='SQUID_INK', denomination='SEASHELLS'),\n",
    "    'KELP': Listing(symbol='KELP', product='KELP', denomination='SEASHELLS')\n",
    "}\n",
    "\n",
    "position_limit = {\n",
    "    'RAINFOREST_RESIN': 50,\n",
    "    'SQUID_INK': 50\n",
    "}\n",
    "\n",
    "fair_calculations = {\n",
    "    \"RAINFOREST_RESIN\": calculate_RAINFOREST_RESIN_fair,\n",
    "    \"SQUID_INK\": calculate_SQUID_INK_fair\n",
    "}"
   ]
  },
  {
   "cell_type": "code",
   "execution_count": 7,
   "id": "ee25ef9c",
   "metadata": {
    "ExecuteTime": {
     "end_time": "2024-04-11T22:20:42.028445Z",
     "start_time": "2024-04-11T22:20:41.505162Z"
    }
   },
   "outputs": [
    {
     "name": "stdout",
     "output_type": "stream",
     "text": [
      "{'RAINFOREST_RESIN': 921, 'SQUID_INK': 0.0, 'KELP': 0.0}\n"
     ]
    }
   ],
   "source": [
    "\n",
    "market_data, trade_history = _process_data_('./logs/roun1_0.log')\n",
    "trader = Trader()\n",
    "backtester = Backtester(trader, listings, position_limit, fair_calculations, market_data, trade_history, './backtestruns/round1_0.txt')\n",
    "backtester.run()\n",
    "print(backtester.pnl)"
   ]
  },
  {
   "cell_type": "code",
   "execution_count": 8,
   "id": "d74be242-5fb9-47a2-b170-b426508aa258",
   "metadata": {
    "ExecuteTime": {
     "end_time": "2024-04-12T00:50:57.626877Z",
     "start_time": "2024-04-12T00:50:52.100602Z"
    }
   },
   "outputs": [
    {
     "name": "stdout",
     "output_type": "stream",
     "text": [
      "{'RAINFOREST_RESIN': 13940, 'SQUID_INK': 0.0, 'KELP': 0.0}\n"
     ]
    }
   ],
   "source": [
    "# with fair prediction\n",
    "day = 0\n",
    "market_data = pd.read_csv(f\"./round-1-island-data-bottle/prices_round_1_day_{day}.csv\", sep=\";\", header=0)\n",
    "trade_history = pd.read_csv(f\"./round-1-island-data-bottle/trades_round_1_day_{day}.csv\", sep=\";\", header=0)\n",
    "\n",
    "trader = Trader()\n",
    "backtester = Backtester(trader, listings, position_limit, fair_calculations, market_data, trade_history, \"trade_history_sim.log\")\n",
    "backtester.run()\n",
    "print(backtester.pnl)\n"
   ]
  },
  {
   "cell_type": "markdown",
   "id": "95caea2e",
   "metadata": {},
   "source": []
  },
  {
   "cell_type": "code",
   "execution_count": 10,
   "id": "8ef00240",
   "metadata": {
    "ExecuteTime": {
     "end_time": "2024-04-11T07:49:51.034535Z",
     "start_time": "2024-04-11T07:49:44.193556Z"
    }
   },
   "outputs": [
    {
     "ename": "AttributeError",
     "evalue": "'str' object has no attribute 'sort_values'",
     "output_type": "error",
     "traceback": [
      "\u001B[1;31m---------------------------------------------------------------------------\u001B[0m",
      "\u001B[1;31mAttributeError\u001B[0m                            Traceback (most recent call last)",
      "\u001B[1;32m~\\AppData\\Local\\Temp\\ipykernel_17560\\3988625794.py\u001B[0m in \u001B[0;36m<module>\u001B[1;34m\u001B[0m\n\u001B[0;32m      4\u001B[0m \u001B[1;33m\u001B[0m\u001B[0m\n\u001B[0;32m      5\u001B[0m \u001B[0mtrader\u001B[0m \u001B[1;33m=\u001B[0m \u001B[0mTrader\u001B[0m\u001B[1;33m(\u001B[0m\u001B[1;33m)\u001B[0m\u001B[1;33m\u001B[0m\u001B[1;33m\u001B[0m\u001B[0m\n\u001B[1;32m----> 6\u001B[1;33m \u001B[0mbacktester\u001B[0m \u001B[1;33m=\u001B[0m \u001B[0mBacktester\u001B[0m\u001B[1;33m(\u001B[0m\u001B[0mtrader\u001B[0m\u001B[1;33m,\u001B[0m \u001B[0mlistings\u001B[0m\u001B[1;33m,\u001B[0m \u001B[0mposition_limit\u001B[0m\u001B[1;33m,\u001B[0m \u001B[0mmarket_data\u001B[0m\u001B[1;33m,\u001B[0m \u001B[0mtrade_history\u001B[0m\u001B[1;33m,\u001B[0m \u001B[1;34m\"trade_history_sim.log\"\u001B[0m\u001B[1;33m)\u001B[0m\u001B[1;33m\u001B[0m\u001B[1;33m\u001B[0m\u001B[0m\n\u001B[0m\u001B[0;32m      7\u001B[0m \u001B[0mbacktester\u001B[0m\u001B[1;33m.\u001B[0m\u001B[0mrun\u001B[0m\u001B[1;33m(\u001B[0m\u001B[1;33m)\u001B[0m\u001B[1;33m\u001B[0m\u001B[1;33m\u001B[0m\u001B[0m\n\u001B[0;32m      8\u001B[0m \u001B[0mprint\u001B[0m\u001B[1;33m(\u001B[0m\u001B[0mbacktester\u001B[0m\u001B[1;33m.\u001B[0m\u001B[0mpnl\u001B[0m\u001B[1;33m)\u001B[0m\u001B[1;33m\u001B[0m\u001B[1;33m\u001B[0m\u001B[0m\n",
      "\u001B[1;32m~\\Documents\\GitHub\\imc-prosperity-2\\round1_new\\backtester.py\u001B[0m in \u001B[0;36m__init__\u001B[1;34m(self, trader, listings, position_limit, fair_marks, market_data, trade_history, file_name)\u001B[0m\n\u001B[0;32m     15\u001B[0m         \u001B[0mself\u001B[0m\u001B[1;33m.\u001B[0m\u001B[0mposition_limit\u001B[0m \u001B[1;33m=\u001B[0m \u001B[0mposition_limit\u001B[0m\u001B[1;33m\u001B[0m\u001B[1;33m\u001B[0m\u001B[0m\n\u001B[0;32m     16\u001B[0m         \u001B[0mself\u001B[0m\u001B[1;33m.\u001B[0m\u001B[0mfair_marks\u001B[0m \u001B[1;33m=\u001B[0m \u001B[0mfair_marks\u001B[0m\u001B[1;33m\u001B[0m\u001B[1;33m\u001B[0m\u001B[0m\n\u001B[1;32m---> 17\u001B[1;33m         \u001B[0mself\u001B[0m\u001B[1;33m.\u001B[0m\u001B[0mtrade_history\u001B[0m \u001B[1;33m=\u001B[0m \u001B[0mtrade_history\u001B[0m\u001B[1;33m.\u001B[0m\u001B[0msort_values\u001B[0m\u001B[1;33m(\u001B[0m\u001B[0mby\u001B[0m\u001B[1;33m=\u001B[0m\u001B[1;33m[\u001B[0m\u001B[1;34m'timestamp'\u001B[0m\u001B[1;33m,\u001B[0m \u001B[1;34m'symbol'\u001B[0m\u001B[1;33m]\u001B[0m\u001B[1;33m)\u001B[0m\u001B[1;33m\u001B[0m\u001B[1;33m\u001B[0m\u001B[0m\n\u001B[0m\u001B[0;32m     18\u001B[0m         \u001B[0mself\u001B[0m\u001B[1;33m.\u001B[0m\u001B[0mfile_name\u001B[0m \u001B[1;33m=\u001B[0m \u001B[0mfile_name\u001B[0m\u001B[1;33m\u001B[0m\u001B[1;33m\u001B[0m\u001B[0m\n\u001B[0;32m     19\u001B[0m \u001B[1;33m\u001B[0m\u001B[0m\n",
      "\u001B[1;31mAttributeError\u001B[0m: 'str' object has no attribute 'sort_values'"
     ]
    }
   ],
   "source": [
    "day = 0\n",
    "market_data = pd.read_csv(f\"./round-1-island-data-bottle/prices_round_1_day_{day}.csv\", sep=\";\", header=0)\n",
    "trade_history = pd.read_csv(f\"./round-1-island-data-bottle/trades_round_1_day_{day}.csv\", sep=\";\", header=0)\n",
    "\n",
    "trader = Trader()\n",
    "backtester = Backtester(trader, listings, position_limit, market_data, trade_history, \"trade_history_sim.log\")\n",
    "backtester.run()\n",
    "print(backtester.pnl)"
   ]
  },
  {
   "cell_type": "markdown",
   "id": "78f84ee9",
   "metadata": {},
   "source": [
    "# backtest gridsearch"
   ]
  },
  {
   "cell_type": "code",
   "execution_count": null,
   "id": "da4a7053",
   "metadata": {
    "ExecuteTime": {
     "end_time": "2024-04-11T01:05:46.057497Z",
     "start_time": "2024-04-11T01:05:46.050249Z"
    }
   },
   "outputs": [],
   "source": [
    "import itertools\n",
    "\n",
    "def generate_param_combinations(param_grid):\n",
    "    param_names = param_grid.keys()\n",
    "    param_values = param_grid.values()\n",
    "    combinations = list(itertools.product(*param_values))\n",
    "    return [dict(zip(param_names, combination)) for combination in combinations]"
   ]
  },
  {
   "cell_type": "code",
   "execution_count": null,
   "id": "2710a571",
   "metadata": {
    "ExecuteTime": {
     "end_time": "2024-04-12T00:59:54.451328Z",
     "start_time": "2024-04-12T00:59:54.438199Z"
    }
   },
   "outputs": [],
   "source": [
    "import os\n",
    "from tqdm import tqdm\n",
    "\n",
    "def run_backtests(trader, listings, position_limit, fair_calcs, market_data, trade_history, backtest_dir, param_grid, symbol):\n",
    "    if not os.path.exists(backtest_dir):\n",
    "        os.makedirs(backtest_dir)\n",
    "\n",
    "    param_combinations = generate_param_combinations(param_grid[symbol])\n",
    "\n",
    "    results = []\n",
    "    for params in tqdm(param_combinations, desc=f\"Running backtests for {symbol}\", unit=\"backtest\"):\n",
    "        trader.params = {symbol: params}\n",
    "        backtester = Backtester(trader, listings, position_limit, fair_calcs, market_data, trade_history)\n",
    "        backtester.run()\n",
    "\n",
    "        param_str = \"-\".join([f\"{key}={value}\" for key, value in params.items()])\n",
    "        log_filename = f\"{backtest_dir}/{symbol}_{param_str}.log\"\n",
    "        backtester._log_trades(log_filename)\n",
    "\n",
    "        results.append((params, backtester.pnl[symbol]))\n",
    "\n",
    "    return results"
   ]
  },
  {
   "cell_type": "markdown",
   "id": "141f7346",
   "metadata": {},
   "source": [
    "### setup"
   ]
  },
  {
   "cell_type": "code",
   "execution_count": null,
   "id": "91eca625",
   "metadata": {
    "ExecuteTime": {
     "end_time": "2024-04-12T00:59:56.349283Z",
     "start_time": "2024-04-12T00:59:56.343849Z"
    }
   },
   "outputs": [],
   "source": [
    "listings = {\n",
    "    'RAINFOREST_RESIN': Listing(symbol='RAINFOREST_RESIN', product='RAINFOREST_RESIN', denomination='SEASHELLS'),\n",
    "    'SQUID_INK': Listing(symbol='SQUID_INK', product='SQUID_INK', denomination='SEASHELLS')\n",
    "}\n",
    "\n",
    "position_limit = {\n",
    "    'RAINFOREST_RESIN': 20,\n",
    "    'SQUID_INK': 20\n",
    "}\n",
    "\n",
    "fair_calculations = {\n",
    "    \"RAINFOREST_RESIN\": calculate_RAINFOREST_RESIN_fair,\n",
    "    \"SQUID_INK\": calculate_SQUID_INK_fair\n",
    "}\n"
   ]
  },
  {
   "cell_type": "code",
   "execution_count": null,
   "id": "3bdbcd72",
   "metadata": {
    "ExecuteTime": {
     "end_time": "2024-04-12T00:59:58.140937Z",
     "start_time": "2024-04-12T00:59:58.070172Z"
    }
   },
   "outputs": [],
   "source": [
    "day = 0\n",
    "market_data = pd.read_csv(f\"./round-1-island-data-bottle/prices_round_1_day_{day}.csv\", sep=\";\", header=0)\n",
    "trade_history = pd.read_csv(f\"./round-1-island-data-bottle/trades_round_1_day_{day}_nn.csv\", sep=\";\", header=0)\n",
    "\n"
   ]
  },
  {
   "cell_type": "markdown",
   "id": "28aef217",
   "metadata": {},
   "source": [
    "### run"
   ]
  },
  {
   "cell_type": "code",
   "execution_count": null,
   "id": "f9670677",
   "metadata": {
    "ExecuteTime": {
     "start_time": "2024-04-12T01:39:43.665Z"
    },
    "scrolled": false
   },
   "outputs": [],
   "source": [
    "backtest_dir = \"backtestruns\"\n",
    "\n",
    "param_grid = {\n",
    "    Product.RAINFOREST_RESIN: {\n",
    "        \"fair_value\": [10000],\n",
    "        \"take_width\": [1],\n",
    "        \"clear_width\": [0.5],\n",
    "        \"volume_limit\": [0],\n",
    "        # for making\n",
    "        \"disregard_edge\": [1],  # disregards orders for joining or pennying within this value from fair\n",
    "        \"join_edge\": [2],# joins orders within this edge \n",
    "        \"default_edge\": [4]\n",
    "    },\n",
    "    Product.SQUID_INK: {\n",
    "        \"take_width\": [1],\n",
    "        \"clear_width\": [0, -0.25],\n",
    "        \"prevent_adverse\": [True],\n",
    "        \"adverse_volume\": [15],\n",
    "        \"reversion_beta\": [-0.229],\n",
    "        # for making\n",
    "        \"disregard_edge\": [1],\n",
    "        \"join_edge\": [3],\n",
    "        \"default_edge\": [5],\n",
    "    },\n",
    "}\n",
    "\n",
    "\n",
    "\n",
    "trader = Trader()\n",
    "\n",
    "resin_results = run_backtests(trader, listings, position_limit, fair_calculations, market_data, trade_history, backtest_dir, param_grid, \"RAINFOREST_RESIN\")\n",
    "print(\"RAINFOREST_RESIN results:\")\n",
    "for params, pnl in resin_results: \n",
    "    print(params)\n",
    "    print(f\"pnl: {pnl}\")\n",
    "    print(\"=\"*80)\n",
    "\n",
    "SQUID_INK_results = run_backtests(trader, listings, position_limit, fair_calculations, market_data, trade_history, backtest_dir, param_grid, \"SQUID_INK\")\n",
    "print(\"SQUID_INK results:\")\n",
    "for params, pnl in SQUID_INK_results:\n",
    "    print(params)\n",
    "    print(f\"pnl: {pnl}\")\n",
    "    print(\"=\"*80)"
   ]
  },
  {
   "cell_type": "markdown",
   "id": "bd53a5e1",
   "metadata": {},
   "source": [
    "## analyze"
   ]
  },
  {
   "cell_type": "code",
   "execution_count": null,
   "id": "2027e9a2",
   "metadata": {
    "ExecuteTime": {
     "end_time": "2024-04-10T20:17:56.528624Z",
     "start_time": "2024-04-10T20:17:56.471121Z"
    }
   },
   "outputs": [],
   "source": [
    "\n",
    "def analyze_log_files(backtest_dir):\n",
    "    log_files = [f for f in os.listdir(backtest_dir) if f.endswith('.log')]\n",
    "    \n",
    "    results = []\n",
    "    for log_file in log_files:\n",
    "        file_path = os.path.join(backtest_dir, log_file)\n",
    "        \n",
    "        # Extract symbol and parameters from the file name\n",
    "        file_name = os.path.splitext(log_file)[0]\n",
    "        print(file_name)\n",
    "        symbol, params_str = file_name.split('-', 1)\n",
    "        params = dict(param.split('=') for param in params_str.split('-'))\n",
    "        \n",
    "        # Read the contents of the log file\n",
    "        with open(file_path, 'r') as file:\n",
    "            log_content = file.read()\n",
    "        \n",
    "        # Store the symbol, parameters, and log content in the results\n",
    "        results.append({\n",
    "            'symbol': symbol,\n",
    "            'params': params,\n",
    "            'log_content': log_content\n",
    "        })\n",
    "    \n",
    "    return results\n",
    "\n",
    "# Analyze the log files\n",
    "log_analysis_results = analyze_log_files(backtest_dir)\n",
    "\n",
    "# Print the results\n",
    "for result in log_analysis_results:\n",
    "    print(f\"Symbol: {result['symbol']}\")\n",
    "    print(f\"Parameters: {result['params']}\")\n",
    "#     print(f\"Log Content:\\n{result['log_content']}\\n\")"
   ]
  }
 ],
 "metadata": {
  "kernelspec": {
   "display_name": "base",
   "language": "python",
   "name": "python3"
  },
  "language_info": {
   "codemirror_mode": {
    "name": "ipython",
    "version": 3
   },
   "file_extension": ".py",
   "mimetype": "text/x-python",
   "name": "python",
   "nbconvert_exporter": "python",
   "pygments_lexer": "ipython3",
   "version": "3.9.13"
  },
  "toc": {
   "base_numbering": 1,
   "nav_menu": {},
   "number_sections": true,
   "sideBar": true,
   "skip_h1_title": false,
   "title_cell": "Table of Contents",
   "title_sidebar": "Contents",
   "toc_cell": false,
   "toc_position": {},
   "toc_section_display": true,
   "toc_window_display": false
  }
 },
 "nbformat": 4,
 "nbformat_minor": 5
}
